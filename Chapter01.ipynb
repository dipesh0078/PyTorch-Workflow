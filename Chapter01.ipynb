{
  "nbformat": 4,
  "nbformat_minor": 0,
  "metadata": {
    "colab": {
      "provenance": [],
      "authorship_tag": "ABX9TyOXcruu2VcyYOjbxIC/P1aI",
      "include_colab_link": true
    },
    "kernelspec": {
      "name": "python3",
      "display_name": "Python 3"
    },
    "language_info": {
      "name": "python"
    }
  },
  "cells": [
    {
      "cell_type": "markdown",
      "metadata": {
        "id": "view-in-github",
        "colab_type": "text"
      },
      "source": [
        "<a href=\"https://colab.research.google.com/github/dipesh0078/PyTorch-Workflow/blob/main/Chapter01.ipynb\" target=\"_parent\"><img src=\"https://colab.research.google.com/assets/colab-badge.svg\" alt=\"Open In Colab\"/></a>"
      ]
    },
    {
      "cell_type": "markdown",
      "source": [
        "#PyTorch Workflow\n",
        "\n",
        "Let's explore an example PyTorch end-to-end workflow.\n",
        "\n",
        "whar_we_are_covering={1:\"data(prepare and load)\",\n",
        "                       2:\"build model\",\n",
        "                       3:\"Fitting the model to data (training)\"\n",
        "                       4:\"making predictions and evaluting a model (inference)\"\n",
        "                       5: \"saving and loading a model\"\n",
        "                       6:\"putting it all together\"}"
      ],
      "metadata": {
        "id": "_inDtFYQY1X7"
      }
    },
    {
      "cell_type": "code",
      "source": [
        "whar_we_are_covering={1:\"data(prepare and load)\",\n",
        "                      2:\"build model\",\n",
        "                      3:\"Fitting the model to data (training)\"\n",
        "                       4:\"making predictions and evaluting a model (inference)\"\n",
        "                      5: \"saving and loading a model\"\n",
        "                      6:\"putting it all together\"}"
      ],
      "metadata": {
        "colab": {
          "base_uri": "https://localhost:8080/",
          "height": 140
        },
        "id": "pTL1ioppZ5VE",
        "outputId": "79c7a145-3acc-4d9c-99e9-1ddb14cbdbe3"
      },
      "execution_count": 167,
      "outputs": [
        {
          "output_type": "error",
          "ename": "SyntaxError",
          "evalue": "invalid syntax. Perhaps you forgot a comma? (<ipython-input-167-20f42a727fe5>, line 3)",
          "traceback": [
            "\u001b[0;36m  File \u001b[0;32m\"<ipython-input-167-20f42a727fe5>\"\u001b[0;36m, line \u001b[0;32m3\u001b[0m\n\u001b[0;31m    3:\"Fitting the model to data (training)\"\u001b[0m\n\u001b[0m      ^\u001b[0m\n\u001b[0;31mSyntaxError\u001b[0m\u001b[0;31m:\u001b[0m invalid syntax. Perhaps you forgot a comma?\n"
          ]
        }
      ]
    },
    {
      "cell_type": "code",
      "source": [
        "import torch\n",
        "from torch import nn # nn contains all of pytorch's building blocks for neural networks\n",
        "import matplotlib.pyplot as plt\n",
        "\n",
        "#check PyTorch version\n",
        "torch.__version__"
      ],
      "metadata": {
        "colab": {
          "base_uri": "https://localhost:8080/",
          "height": 35
        },
        "id": "xY7D74iEZ0xU",
        "outputId": "31f3e266-77a5-4bbe-88a2-78be2f1abd8e"
      },
      "execution_count": 168,
      "outputs": [
        {
          "output_type": "execute_result",
          "data": {
            "text/plain": [
              "'2.1.0+cu121'"
            ],
            "application/vnd.google.colaboratory.intrinsic+json": {
              "type": "string"
            }
          },
          "metadata": {},
          "execution_count": 168
        }
      ]
    },
    {
      "cell_type": "markdown",
      "source": [
        "##1. Data preparing and loading\n",
        "Data can be almost anything\n",
        "\n",
        "*Excel spreadsheet\n",
        "*Images of any kind\n",
        "*Audio\n",
        "*DNA Pattern etc\n",
        "\n",
        "Machine learning is a game of two parts :\n",
        "1. Get data into a numerical representation.\n",
        "2. Build a model to learn patterns in that numerical representation\n",
        "\n",
        "We will use linear regression formula to make a straight line with known parameters."
      ],
      "metadata": {
        "id": "gMAYKT4da_Ar"
      }
    },
    {
      "cell_type": "code",
      "source": [
        "# Create *Known* parameters\n",
        "# Y=a+bX\n",
        "\n",
        "weight=0.7 #its b\n",
        "bias=0.3 #its a\n",
        "\n",
        "#create\n",
        "start=0\n",
        "end=1\n",
        "step=0.02\n",
        "X=torch.arange(start,end,step).unsqueeze(dim=1)\n",
        "y=weight*X+bias\n",
        "\n",
        "X[:10]\n",
        "y[:10]\n",
        "\n",
        "len(X)\n",
        "len(y)\n",
        "\n"
      ],
      "metadata": {
        "colab": {
          "base_uri": "https://localhost:8080/"
        },
        "id": "r2DLh_mIbQuC",
        "outputId": "c59629ff-7eaf-4b53-f806-233019d6ae2f"
      },
      "execution_count": 169,
      "outputs": [
        {
          "output_type": "execute_result",
          "data": {
            "text/plain": [
              "50"
            ]
          },
          "metadata": {},
          "execution_count": 169
        }
      ]
    },
    {
      "cell_type": "markdown",
      "source": [
        "### Splitting data into training and test sets (important in ML)\n",
        "Let's create a traning and test set with our data"
      ],
      "metadata": {
        "id": "qEUoIEMddnuG"
      }
    },
    {
      "cell_type": "code",
      "source": [
        "#Create a train/test split\n",
        "\n",
        "train_split=int(0.8*len(X))\n",
        "X_train=X[:train_split]\n",
        "y_train=y[:train_split]\n",
        "X_test=X[train_split:]\n",
        "y_test=y[train_split:]\n",
        "len(X_train)"
      ],
      "metadata": {
        "colab": {
          "base_uri": "https://localhost:8080/"
        },
        "id": "pgdWKG5be3Vg",
        "outputId": "9bd7b24b-f138-4c0a-e986-9c2d015b60e3"
      },
      "execution_count": 170,
      "outputs": [
        {
          "output_type": "execute_result",
          "data": {
            "text/plain": [
              "40"
            ]
          },
          "metadata": {},
          "execution_count": 170
        }
      ]
    },
    {
      "cell_type": "markdown",
      "source": [
        "#Visulizing Data"
      ],
      "metadata": {
        "id": "tqUEOLlBgnh3"
      }
    },
    {
      "cell_type": "code",
      "source": [
        "def plot_predictions(train_data=X_train,\n",
        "                     train_labels=y_train,\n",
        "                     test_data=X_test,\n",
        "                     test_labels=y_test,\n",
        "                     predictions=None):\n",
        "  \"\"\"\n",
        "  Plots training data, test data and compares predictions.\n",
        "  \"\"\"\n",
        "  plt.figure(figsize=(10,7))\n",
        "\n",
        "  #Plot training data in blue\n",
        "  plt.scatter(train_data,train_labels, c=\"b\",s=4,label=\"Training data\")\n",
        "  #Plot test data in green\n",
        "\n",
        "  plt.scatter(test_data,test_labels,c=\"g\",s=4, label=\"Testing data\")\n",
        "\n",
        "  #Are there predictions?\n",
        "\n",
        "  if predictions is not None:\n",
        "        # Plot the predictions if they exist\n",
        "        plt.scatter(test_data, predictions, c='r', s=4, label=\"Predictions\")\n",
        "\n",
        "  #show legend\n",
        "  plt.legend(prop={\"size\":14});\n"
      ],
      "metadata": {
        "id": "ZIp6AXH8gdr3"
      },
      "execution_count": 171,
      "outputs": []
    },
    {
      "cell_type": "code",
      "source": [
        "plot_predictions();"
      ],
      "metadata": {
        "colab": {
          "base_uri": "https://localhost:8080/",
          "height": 599
        },
        "id": "N-zZ7W7jpKh1",
        "outputId": "5304e45e-a5e1-4383-8c1f-08d4cf14b66f"
      },
      "execution_count": 172,
      "outputs": [
        {
          "output_type": "display_data",
          "data": {
            "text/plain": [
              "<Figure size 1000x700 with 1 Axes>"
            ],
            "image/png": "[encoded data removed]"
          },
          "metadata": {}
        }
      ]
    },
    {
      "cell_type": "markdown",
      "source": [
        "##2. Build model\n",
        "\n",
        "our first PyTorch model\n",
        "\n",
        "What our model does:\n",
        "\n",
        "*Start with random values (weight and bias)\n",
        "*Look at training data and adjust the random values to better\n",
        "represent (or get closer to) the ideal values (the weight & bias values we used to create the data)\n",
        "\n",
        "How does it do so?\n",
        "\n",
        "Through two main algorithms\n",
        "1. Gradient descent\n",
        "2. Back Propagation"
      ],
      "metadata": {
        "id": "qkg1vav9qh9B"
      }
    },
    {
      "cell_type": "code",
      "source": [
        "#Create linear regression model class\n",
        "from torch import nn\n",
        "class LinearRegressionModel(nn.Module): #<- almost everything in PyTorch inherits from nn.Module\n",
        "  def __init__(self):\n",
        "    super().__init__()\n",
        "    self.weight=nn.Parameter(torch.randn(1,\n",
        "                                          requires_grad=True,\n",
        "                                          dtype=torch.float))\n",
        "    self.bias=nn.Parameter(torch.randn(1,\n",
        "                                       requires_grad=True,\n",
        "                                       dtype=torch.float))\n",
        "# forward method to define the computation in the model\n",
        "\n",
        "  def forward(self,x:torch.Tensor)->torch.Tensor:#<-\"x\" is th einput data\n",
        "    return self.weight*x+self.bias #thi is the linear regression formula\n"
      ],
      "metadata": {
        "id": "9ueyyRuxqpAY"
      },
      "execution_count": 173,
      "outputs": []
    },
    {
      "cell_type": "markdown",
      "source": [
        "###Pytorch model building essentials\n",
        "\n",
        "* torch.nn--contains all of the buildings block for computational graphs (a neural network can be considered computational graphs)\n",
        "\n",
        "* torch.nn.Parameter- what parameters should our model try and learn, often a pytorch layer from torch.nn will set these for us\n",
        "\n",
        "* torch.nn.Module- The base class for all neural networks modules, if we subclass it, we should overwrite forward()\n",
        "\n",
        "* torch.optim- this is where the optimizers in pytorch live, they will help with gradient descent\n",
        "\n",
        "* def forward()- All nn.Module subclasses require we need to overwrite forward(), this method defines what happens in the forward computation\n"
      ],
      "metadata": {
        "id": "vZFugXH4wfU_"
      }
    },
    {
      "cell_type": "markdown",
      "source": [
        "###Checking The contents of our PyTorch  model\n",
        "\n",
        "We can check our model parameter or what is inside our model suing .parameters()\n"
      ],
      "metadata": {
        "id": "2CM3yIkyz-yW"
      }
    },
    {
      "cell_type": "code",
      "source": [
        "#Create a random seed\n",
        "\n",
        "torch.manual_seed(42)\n",
        "\n",
        "#Create an instance of the model (this is a subclass of nn.Module)\n",
        "\n",
        "model_0= LinearRegressionModel()\n",
        "list(model_0.parameters())"
      ],
      "metadata": {
        "colab": {
          "base_uri": "https://localhost:8080/"
        },
        "id": "vY02AJE61CvO",
        "outputId": "5cc14f6c-10cd-4d28-ddfb-6b5622d0860e"
      },
      "execution_count": 174,
      "outputs": [
        {
          "output_type": "execute_result",
          "data": {
            "text/plain": [
              "[Parameter containing:\n",
              " tensor([0.3367], requires_grad=True),\n",
              " Parameter containing:\n",
              " tensor([0.1288], requires_grad=True)]"
            ]
          },
          "metadata": {},
          "execution_count": 174
        }
      ]
    },
    {
      "cell_type": "code",
      "source": [
        "#List named parameters\n",
        "model_0.state_dict()"
      ],
      "metadata": {
        "colab": {
          "base_uri": "https://localhost:8080/"
        },
        "id": "8aDUynLT2PLK",
        "outputId": "89d2a9dc-3f93-443e-ff0c-f702fac33124"
      },
      "execution_count": 175,
      "outputs": [
        {
          "output_type": "execute_result",
          "data": {
            "text/plain": [
              "OrderedDict([('weight', tensor([0.3367])), ('bias', tensor([0.1288]))])"
            ]
          },
          "metadata": {},
          "execution_count": 175
        }
      ]
    },
    {
      "cell_type": "code",
      "source": [],
      "metadata": {
        "id": "f-1F-9l22rBU"
      },
      "execution_count": 175,
      "outputs": []
    },
    {
      "cell_type": "markdown",
      "source": [
        "### Making prediction using `torch.inference_mode()`\n",
        "\n",
        "TO check our model's predictive power, let's see how well it predicts `y_test` based on `X_test`\n",
        "when we pass data through our model it will go through the `forward()` method."
      ],
      "metadata": {
        "id": "9Yb2Z6fB4QXD"
      }
    },
    {
      "cell_type": "code",
      "source": [
        "#Make predictions with model\n",
        "with torch.inference_mode():\n",
        "  y_preds=model_0(X_test)\n",
        "\n",
        "y_preds"
      ],
      "metadata": {
        "colab": {
          "base_uri": "https://localhost:8080/"
        },
        "id": "n2gadEpm_nv9",
        "outputId": "4d8c1923-8f52-460b-a855-050782a741d5"
      },
      "execution_count": 176,
      "outputs": [
        {
          "output_type": "execute_result",
          "data": {
            "text/plain": [
              "tensor([[0.3982],\n",
              "        [0.4049],\n",
              "        [0.4116],\n",
              "        [0.4184],\n",
              "        [0.4251],\n",
              "        [0.4318],\n",
              "        [0.4386],\n",
              "        [0.4453],\n",
              "        [0.4520],\n",
              "        [0.4588]])"
            ]
          },
          "metadata": {},
          "execution_count": 176
        }
      ]
    },
    {
      "cell_type": "code",
      "source": [
        "plot_predictions(predictions=y_preds)"
      ],
      "metadata": {
        "colab": {
          "base_uri": "https://localhost:8080/",
          "height": 599
        },
        "id": "Bq0GDD_3BRsz",
        "outputId": "f9fbe66a-e2fc-4b80-aadb-e84e56ffa010"
      },
      "execution_count": 177,
      "outputs": [
        {
          "output_type": "display_data",
          "data": {
            "text/plain": [
              "<Figure size 1000x700 with 1 Axes>"
            ],
            "image/png": "[encoded data removed]"
          },
          "metadata": {}
        }
      ]
    },
    {
      "cell_type": "markdown",
      "source": [
        "##3. Train model\n",
        " The whole idea of training is for a model to move from some unknown parameters (these may be random) to some known parameters.\n",
        "\n",
        "Or in other words from a poor representation of the data to a better representation of the data.\n",
        "\n",
        "One way to measure how poor or how wrong our models predictions are is to use a loss function\n",
        "\n",
        "* Note Loss function may also be called cost function or criterion in different areas. For our case, we're going to refer to it as a loss function.\n",
        "\n",
        "Things we need to train:\n",
        "* **Loss Function:** A function to measure how wrong our model's predictions are to the ideal output\n",
        "\n",
        "* **Optimizer**: Takes into account the loss of a model and adjusts the model's parameters\n",
        "\n",
        "And specifically for pytorch, we need:\n",
        "* A training loop\n",
        "* A testing loop\n"
      ],
      "metadata": {
        "id": "G5aU5-dFFWZR"
      }
    },
    {
      "cell_type": "code",
      "source": [
        "list(model_0.parameters())"
      ],
      "metadata": {
        "colab": {
          "base_uri": "https://localhost:8080/"
        },
        "id": "tIe5VAlpIbGt",
        "outputId": "02fbe935-1cc8-4d1c-aff1-bb4d5277975f"
      },
      "execution_count": 178,
      "outputs": [
        {
          "output_type": "execute_result",
          "data": {
            "text/plain": [
              "[Parameter containing:\n",
              " tensor([0.3367], requires_grad=True),\n",
              " Parameter containing:\n",
              " tensor([0.1288], requires_grad=True)]"
            ]
          },
          "metadata": {},
          "execution_count": 178
        }
      ]
    },
    {
      "cell_type": "code",
      "source": [
        "#check out our model's parameters (a parameter is a value that the model sets itself)\n",
        "model_0.state_dict()"
      ],
      "metadata": {
        "colab": {
          "base_uri": "https://localhost:8080/"
        },
        "id": "UmEsw_0tIn0o",
        "outputId": "8698d699-4ac0-45f9-8222-d84465a081f7"
      },
      "execution_count": 179,
      "outputs": [
        {
          "output_type": "execute_result",
          "data": {
            "text/plain": [
              "OrderedDict([('weight', tensor([0.3367])), ('bias', tensor([0.1288]))])"
            ]
          },
          "metadata": {},
          "execution_count": 179
        }
      ]
    },
    {
      "cell_type": "code",
      "source": [
        "#Setup loss function\n",
        "loss_fn=nn.L1Loss()\n",
        "\n",
        "#Setup an optimizer\n",
        "optimizer=torch.optim.SGD(params=model_0.parameters(),lr=0.01) #stochastic gradient descent lr: learning rate (hyperparameter)"
      ],
      "metadata": {
        "id": "ErGiRsvXKz1Z"
      },
      "execution_count": 180,
      "outputs": []
    },
    {
      "cell_type": "markdown",
      "source": [
        "Q: Which loss function and optimizer should I use?\n",
        "\n",
        "A: This will be problem specific. But with experience, we will get an idea of what works and what does'nt with our particular problem set.\n",
        "\n",
        "For example, for a regression problem(like ours) a loss function of nn.L1Loss()\n",
        "and an optimizer like torch.optim.SGD() will suffice.\n",
        "\n",
        "But for a classification problems like classifying whether a photo is of a dog or a cat, we will likely want to use a losss function of nn.BCELoss() (binary creoo entropy loss)."
      ],
      "metadata": {
        "id": "6ieGqvIPhMY-"
      }
    },
    {
      "cell_type": "markdown",
      "source": [
        "###Building a training loop (and a testing loop) in PyTorch\n",
        "A couple of things we need in a training loop:\n",
        "0.Loop through the data\n",
        "1. Forward pass (this involves data moving through our model's `Forward()` functions) to make predictions on data - also called forward propagation\n",
        "2. Calculate the loss (compare forward pass predictions to ground truth labels)\n",
        "3.Optimizer zero grad\n",
        "4. Loss backward= move backwards through the network\n",
        "5.Optimizer step- use the optimizer to adjust our model's parameters to try and improve the loss\n",
        "                 \n"
      ],
      "metadata": {
        "id": "INN2u1SukC9P"
      }
    },
    {
      "cell_type": "code",
      "source": [
        "list(model_0.eval().parameters())\n"
      ],
      "metadata": {
        "colab": {
          "base_uri": "https://localhost:8080/"
        },
        "id": "Krq2ucDUk5ZQ",
        "outputId": "d3e4b642-6fa6-4d3e-8a4f-4aa2a72e0ed6"
      },
      "execution_count": 181,
      "outputs": [
        {
          "output_type": "execute_result",
          "data": {
            "text/plain": [
              "[Parameter containing:\n",
              " tensor([0.3367], requires_grad=True),\n",
              " Parameter containing:\n",
              " tensor([0.1288], requires_grad=True)]"
            ]
          },
          "metadata": {},
          "execution_count": 181
        }
      ]
    },
    {
      "cell_type": "code",
      "source": [
        "#An epocj is one loop through the data....(this is a hyper parameter we've set it)\n",
        "epochs=200\n",
        "###Training\n",
        "#Track Different values\n",
        "epoch_count=[]\n",
        "loss_values=[]\n",
        "test_loss_values=[]\n",
        "#0. Loop through the data\n",
        "for epoch in range(epochs):\n",
        "  #set the model to training mode\n",
        "  model_0.train() #train mode in PyTorch sets all parameters that require gradients\n",
        "#1.Forward pass\n",
        "  y_pred=model_0(X_train)\n",
        "\n",
        "#2. Calculate the loss\n",
        "  loss=loss_fn(y_pred,y_train)\n",
        "  print(loss)\n",
        "\n",
        "#3. Optimizer zero grad\n",
        "  optimizer.zero_grad()\n",
        "\n",
        "#4. Perform backpropagation on the loss with respect to the parameters of the model\n",
        "  loss.backward()\n",
        "#5. Step the optimizer (perform gradient descent)\n",
        "  optimizer.step() #by default how the optimizer changes will accumulate through the loop so.. we have to zero them above in step 3 for the next itertaion of the loop\n",
        "## Testing\n",
        "  model_0.eval() #turn off gradient tracking\n",
        "  with torch.inference_mode():\n",
        "    #1. DO the forward pass\n",
        "    test_pred=model_0(X_test)\n",
        "\n",
        "    #2. Calculate Test loss\n",
        "    test_loss=loss_fn(test_pred, y_test)\n",
        "  #Print Out what is happening\n",
        "  if epoch%10==0:\n",
        "    epoch_count.append(epoch)\n",
        "    loss_values.append(loss)\n",
        "    test_loss_values.append(test_loss)\n",
        "    print(f\"Epoch:{epoch}| test:{loss}|Test loss:{test_loss}\")\n",
        "     #print out model state_dict()\n",
        "    print(model_0.state_dict())\n"
      ],
      "metadata": {
        "colab": {
          "base_uri": "https://localhost:8080/"
        },
        "id": "vIibbrcwkFEw",
        "outputId": "e7900fb2-21ef-4c12-81fe-f829754b6180"
      },
      "execution_count": 184,
      "outputs": [
        {
          "output_type": "stream",
          "name": "stdout",
          "text": [
            "tensor(0.2898, grad_fn=<MeanBackward0>)\n",
            "Epoch:0| test:0.28983935713768005|Test loss:0.4541231691837311\n",
            "OrderedDict([('weight', tensor([0.3484])), ('bias', tensor([0.1588]))])\n",
            "tensor(0.2783, grad_fn=<MeanBackward0>)\n",
            "tensor(0.2668, grad_fn=<MeanBackward0>)\n",
            "tensor(0.2553, grad_fn=<MeanBackward0>)\n",
            "tensor(0.2438, grad_fn=<MeanBackward0>)\n",
            "tensor(0.2322, grad_fn=<MeanBackward0>)\n",
            "tensor(0.2207, grad_fn=<MeanBackward0>)\n",
            "tensor(0.2092, grad_fn=<MeanBackward0>)\n",
            "tensor(0.1977, grad_fn=<MeanBackward0>)\n",
            "tensor(0.1862, grad_fn=<MeanBackward0>)\n",
            "tensor(0.1746, grad_fn=<MeanBackward0>)\n",
            "Epoch:10| test:0.1746293306350708|Test loss:0.3194132149219513\n",
            "OrderedDict([('weight', tensor([0.3874])), ('bias', tensor([0.2588]))])\n",
            "tensor(0.1631, grad_fn=<MeanBackward0>)\n",
            "tensor(0.1516, grad_fn=<MeanBackward0>)\n",
            "tensor(0.1401, grad_fn=<MeanBackward0>)\n",
            "tensor(0.1285, grad_fn=<MeanBackward0>)\n",
            "tensor(0.1170, grad_fn=<MeanBackward0>)\n",
            "tensor(0.1061, grad_fn=<MeanBackward0>)\n",
            "tensor(0.0968, grad_fn=<MeanBackward0>)\n",
            "tensor(0.0891, grad_fn=<MeanBackward0>)\n",
            "tensor(0.0823, grad_fn=<MeanBackward0>)\n",
            "tensor(0.0764, grad_fn=<MeanBackward0>)\n",
            "Epoch:20| test:0.07638873159885406|Test loss:0.19773726165294647\n",
            "OrderedDict([('weight', tensor([0.4258])), ('bias', tensor([0.3463]))])\n",
            "tensor(0.0716, grad_fn=<MeanBackward0>)\n",
            "tensor(0.0675, grad_fn=<MeanBackward0>)\n",
            "tensor(0.0640, grad_fn=<MeanBackward0>)\n",
            "tensor(0.0610, grad_fn=<MeanBackward0>)\n",
            "tensor(0.0585, grad_fn=<MeanBackward0>)\n",
            "tensor(0.0564, grad_fn=<MeanBackward0>)\n",
            "tensor(0.0546, grad_fn=<MeanBackward0>)\n",
            "tensor(0.0531, grad_fn=<MeanBackward0>)\n",
            "tensor(0.0518, grad_fn=<MeanBackward0>)\n",
            "tensor(0.0507, grad_fn=<MeanBackward0>)\n",
            "Epoch:30| test:0.05069301277399063|Test loss:0.13647659122943878\n",
            "OrderedDict([('weight', tensor([0.4564])), ('bias', tensor([0.3803]))])\n",
            "tensor(0.0498, grad_fn=<MeanBackward0>)\n",
            "tensor(0.0490, grad_fn=<MeanBackward0>)\n",
            "tensor(0.0482, grad_fn=<MeanBackward0>)\n",
            "tensor(0.0475, grad_fn=<MeanBackward0>)\n",
            "tensor(0.0469, grad_fn=<MeanBackward0>)\n",
            "tensor(0.0464, grad_fn=<MeanBackward0>)\n",
            "tensor(0.0459, grad_fn=<MeanBackward0>)\n",
            "tensor(0.0454, grad_fn=<MeanBackward0>)\n",
            "tensor(0.0450, grad_fn=<MeanBackward0>)\n",
            "tensor(0.0446, grad_fn=<MeanBackward0>)\n",
            "Epoch:40| test:0.04463795945048332|Test loss:0.1100495308637619\n",
            "OrderedDict([('weight', tensor([0.4788])), ('bias', tensor([0.3868]))])\n",
            "tensor(0.0442, grad_fn=<MeanBackward0>)\n",
            "tensor(0.0438, grad_fn=<MeanBackward0>)\n",
            "tensor(0.0434, grad_fn=<MeanBackward0>)\n",
            "tensor(0.0431, grad_fn=<MeanBackward0>)\n",
            "tensor(0.0427, grad_fn=<MeanBackward0>)\n",
            "tensor(0.0424, grad_fn=<MeanBackward0>)\n",
            "tensor(0.0420, grad_fn=<MeanBackward0>)\n",
            "tensor(0.0417, grad_fn=<MeanBackward0>)\n",
            "tensor(0.0413, grad_fn=<MeanBackward0>)\n",
            "tensor(0.0410, grad_fn=<MeanBackward0>)\n",
            "Epoch:50| test:0.04098063334822655|Test loss:0.09699545800685883\n",
            "OrderedDict([('weight', tensor([0.4974])), ('bias', tensor([0.3833]))])\n",
            "tensor(0.0406, grad_fn=<MeanBackward0>)\n",
            "tensor(0.0403, grad_fn=<MeanBackward0>)\n",
            "tensor(0.0399, grad_fn=<MeanBackward0>)\n",
            "tensor(0.0396, grad_fn=<MeanBackward0>)\n",
            "tensor(0.0392, grad_fn=<MeanBackward0>)\n",
            "tensor(0.0389, grad_fn=<MeanBackward0>)\n",
            "tensor(0.0385, grad_fn=<MeanBackward0>)\n",
            "tensor(0.0382, grad_fn=<MeanBackward0>)\n",
            "tensor(0.0379, grad_fn=<MeanBackward0>)\n",
            "tensor(0.0375, grad_fn=<MeanBackward0>)\n",
            "Epoch:60| test:0.0375034399330616|Test loss:0.08666229248046875\n",
            "OrderedDict([('weight', tensor([0.5152])), ('bias', tensor([0.3778]))])\n",
            "tensor(0.0372, grad_fn=<MeanBackward0>)\n",
            "tensor(0.0368, grad_fn=<MeanBackward0>)\n",
            "tensor(0.0365, grad_fn=<MeanBackward0>)\n",
            "tensor(0.0361, grad_fn=<MeanBackward0>)\n",
            "tensor(0.0358, grad_fn=<MeanBackward0>)\n",
            "tensor(0.0354, grad_fn=<MeanBackward0>)\n",
            "tensor(0.0351, grad_fn=<MeanBackward0>)\n",
            "tensor(0.0348, grad_fn=<MeanBackward0>)\n",
            "tensor(0.0344, grad_fn=<MeanBackward0>)\n",
            "tensor(0.0341, grad_fn=<MeanBackward0>)\n",
            "Epoch:70| test:0.03407188132405281|Test loss:0.07907666265964508\n",
            "OrderedDict([('weight', tensor([0.5322])), ('bias', tensor([0.3703]))])\n",
            "tensor(0.0337, grad_fn=<MeanBackward0>)\n",
            "tensor(0.0334, grad_fn=<MeanBackward0>)\n",
            "tensor(0.0330, grad_fn=<MeanBackward0>)\n",
            "tensor(0.0327, grad_fn=<MeanBackward0>)\n",
            "tensor(0.0324, grad_fn=<MeanBackward0>)\n",
            "tensor(0.0320, grad_fn=<MeanBackward0>)\n",
            "tensor(0.0317, grad_fn=<MeanBackward0>)\n",
            "tensor(0.0313, grad_fn=<MeanBackward0>)\n",
            "tensor(0.0310, grad_fn=<MeanBackward0>)\n",
            "tensor(0.0306, grad_fn=<MeanBackward0>)\n",
            "Epoch:80| test:0.030638623982667923|Test loss:0.07080408930778503\n",
            "OrderedDict([('weight', tensor([0.5493])), ('bias', tensor([0.3633]))])\n",
            "tensor(0.0303, grad_fn=<MeanBackward0>)\n",
            "tensor(0.0300, grad_fn=<MeanBackward0>)\n",
            "tensor(0.0296, grad_fn=<MeanBackward0>)\n",
            "tensor(0.0293, grad_fn=<MeanBackward0>)\n",
            "tensor(0.0289, grad_fn=<MeanBackward0>)\n",
            "tensor(0.0286, grad_fn=<MeanBackward0>)\n",
            "tensor(0.0282, grad_fn=<MeanBackward0>)\n",
            "tensor(0.0279, grad_fn=<MeanBackward0>)\n",
            "tensor(0.0275, grad_fn=<MeanBackward0>)\n",
            "tensor(0.0272, grad_fn=<MeanBackward0>)\n",
            "Epoch:90| test:0.027199819684028625|Test loss:0.06253156810998917\n",
            "OrderedDict([('weight', tensor([0.5665])), ('bias', tensor([0.3563]))])\n",
            "tensor(0.0269, grad_fn=<MeanBackward0>)\n",
            "tensor(0.0265, grad_fn=<MeanBackward0>)\n",
            "tensor(0.0262, grad_fn=<MeanBackward0>)\n",
            "tensor(0.0258, grad_fn=<MeanBackward0>)\n",
            "tensor(0.0255, grad_fn=<MeanBackward0>)\n",
            "tensor(0.0251, grad_fn=<MeanBackward0>)\n",
            "tensor(0.0248, grad_fn=<MeanBackward0>)\n",
            "tensor(0.0245, grad_fn=<MeanBackward0>)\n",
            "tensor(0.0241, grad_fn=<MeanBackward0>)\n",
            "tensor(0.0238, grad_fn=<MeanBackward0>)\n",
            "Epoch:100| test:0.02376994863152504|Test loss:0.05494590476155281\n",
            "OrderedDict([('weight', tensor([0.5834])), ('bias', tensor([0.3488]))])\n",
            "tensor(0.0234, grad_fn=<MeanBackward0>)\n",
            "tensor(0.0231, grad_fn=<MeanBackward0>)\n",
            "tensor(0.0227, grad_fn=<MeanBackward0>)\n",
            "tensor(0.0224, grad_fn=<MeanBackward0>)\n",
            "tensor(0.0221, grad_fn=<MeanBackward0>)\n",
            "tensor(0.0217, grad_fn=<MeanBackward0>)\n",
            "tensor(0.0214, grad_fn=<MeanBackward0>)\n",
            "tensor(0.0210, grad_fn=<MeanBackward0>)\n",
            "tensor(0.0207, grad_fn=<MeanBackward0>)\n",
            "tensor(0.0203, grad_fn=<MeanBackward0>)\n",
            "Epoch:110| test:0.02033500373363495|Test loss:0.046673357486724854\n",
            "OrderedDict([('weight', tensor([0.6006])), ('bias', tensor([0.3418]))])\n",
            "tensor(0.0200, grad_fn=<MeanBackward0>)\n",
            "tensor(0.0196, grad_fn=<MeanBackward0>)\n",
            "tensor(0.0193, grad_fn=<MeanBackward0>)\n",
            "tensor(0.0190, grad_fn=<MeanBackward0>)\n",
            "tensor(0.0186, grad_fn=<MeanBackward0>)\n",
            "tensor(0.0183, grad_fn=<MeanBackward0>)\n",
            "tensor(0.0179, grad_fn=<MeanBackward0>)\n",
            "tensor(0.0176, grad_fn=<MeanBackward0>)\n",
            "tensor(0.0172, grad_fn=<MeanBackward0>)\n",
            "tensor(0.0169, grad_fn=<MeanBackward0>)\n",
            "Epoch:120| test:0.016896454617381096|Test loss:0.0390876941382885\n",
            "OrderedDict([('weight', tensor([0.6175])), ('bias', tensor([0.3343]))])\n",
            "tensor(0.0166, grad_fn=<MeanBackward0>)\n",
            "tensor(0.0162, grad_fn=<MeanBackward0>)\n",
            "tensor(0.0159, grad_fn=<MeanBackward0>)\n",
            "tensor(0.0155, grad_fn=<MeanBackward0>)\n",
            "tensor(0.0152, grad_fn=<MeanBackward0>)\n",
            "tensor(0.0148, grad_fn=<MeanBackward0>)\n",
            "tensor(0.0145, grad_fn=<MeanBackward0>)\n",
            "tensor(0.0142, grad_fn=<MeanBackward0>)\n",
            "tensor(0.0138, grad_fn=<MeanBackward0>)\n",
            "tensor(0.0135, grad_fn=<MeanBackward0>)\n",
            "Epoch:130| test:0.013468016870319843|Test loss:0.030815154314041138\n",
            "OrderedDict([('weight', tensor([0.6347])), ('bias', tensor([0.3273]))])\n",
            "tensor(0.0131, grad_fn=<MeanBackward0>)\n",
            "tensor(0.0128, grad_fn=<MeanBackward0>)\n",
            "tensor(0.0124, grad_fn=<MeanBackward0>)\n",
            "tensor(0.0121, grad_fn=<MeanBackward0>)\n",
            "tensor(0.0118, grad_fn=<MeanBackward0>)\n",
            "tensor(0.0114, grad_fn=<MeanBackward0>)\n",
            "tensor(0.0111, grad_fn=<MeanBackward0>)\n",
            "tensor(0.0107, grad_fn=<MeanBackward0>)\n",
            "tensor(0.0104, grad_fn=<MeanBackward0>)\n",
            "tensor(0.0100, grad_fn=<MeanBackward0>)\n",
            "Epoch:140| test:0.010031387209892273|Test loss:0.022542614489793777\n",
            "OrderedDict([('weight', tensor([0.6519])), ('bias', tensor([0.3203]))])\n",
            "tensor(0.0097, grad_fn=<MeanBackward0>)\n",
            "tensor(0.0093, grad_fn=<MeanBackward0>)\n",
            "tensor(0.0090, grad_fn=<MeanBackward0>)\n",
            "tensor(0.0087, grad_fn=<MeanBackward0>)\n",
            "tensor(0.0083, grad_fn=<MeanBackward0>)\n",
            "tensor(0.0080, grad_fn=<MeanBackward0>)\n",
            "tensor(0.0076, grad_fn=<MeanBackward0>)\n",
            "tensor(0.0073, grad_fn=<MeanBackward0>)\n",
            "tensor(0.0069, grad_fn=<MeanBackward0>)\n",
            "tensor(0.0066, grad_fn=<MeanBackward0>)\n",
            "Epoch:150| test:0.006594526115804911|Test loss:0.01495695672929287\n",
            "OrderedDict([('weight', tensor([0.6688])), ('bias', tensor([0.3128]))])\n",
            "tensor(0.0063, grad_fn=<MeanBackward0>)\n",
            "tensor(0.0059, grad_fn=<MeanBackward0>)\n",
            "tensor(0.0056, grad_fn=<MeanBackward0>)\n",
            "tensor(0.0052, grad_fn=<MeanBackward0>)\n",
            "tensor(0.0049, grad_fn=<MeanBackward0>)\n",
            "tensor(0.0045, grad_fn=<MeanBackward0>)\n",
            "tensor(0.0042, grad_fn=<MeanBackward0>)\n",
            "tensor(0.0039, grad_fn=<MeanBackward0>)\n",
            "tensor(0.0035, grad_fn=<MeanBackward0>)\n",
            "tensor(0.0032, grad_fn=<MeanBackward0>)\n",
            "Epoch:160| test:0.0031660839449614286|Test loss:0.006684416439384222\n",
            "OrderedDict([('weight', tensor([0.6860])), ('bias', tensor([0.3058]))])\n",
            "tensor(0.0028, grad_fn=<MeanBackward0>)\n",
            "tensor(0.0025, grad_fn=<MeanBackward0>)\n",
            "tensor(0.0021, grad_fn=<MeanBackward0>)\n",
            "tensor(0.0018, grad_fn=<MeanBackward0>)\n",
            "tensor(0.0015, grad_fn=<MeanBackward0>)\n",
            "tensor(0.0012, grad_fn=<MeanBackward0>)\n",
            "tensor(0.0026, grad_fn=<MeanBackward0>)\n",
            "tensor(0.0089, grad_fn=<MeanBackward0>)\n",
            "tensor(0.0026, grad_fn=<MeanBackward0>)\n",
            "tensor(0.0089, grad_fn=<MeanBackward0>)\n",
            "Epoch:170| test:0.008932482451200485|Test loss:0.005023092031478882\n",
            "OrderedDict([('weight', tensor([0.6951])), ('bias', tensor([0.2993]))])\n",
            "tensor(0.0026, grad_fn=<MeanBackward0>)\n",
            "tensor(0.0089, grad_fn=<MeanBackward0>)\n",
            "tensor(0.0026, grad_fn=<MeanBackward0>)\n",
            "tensor(0.0089, grad_fn=<MeanBackward0>)\n",
            "tensor(0.0026, grad_fn=<MeanBackward0>)\n",
            "tensor(0.0089, grad_fn=<MeanBackward0>)\n",
            "tensor(0.0026, grad_fn=<MeanBackward0>)\n",
            "tensor(0.0089, grad_fn=<MeanBackward0>)\n",
            "tensor(0.0026, grad_fn=<MeanBackward0>)\n",
            "tensor(0.0089, grad_fn=<MeanBackward0>)\n",
            "Epoch:180| test:0.008932482451200485|Test loss:0.005023092031478882\n",
            "OrderedDict([('weight', tensor([0.6951])), ('bias', tensor([0.2993]))])\n",
            "tensor(0.0026, grad_fn=<MeanBackward0>)\n",
            "tensor(0.0089, grad_fn=<MeanBackward0>)\n",
            "tensor(0.0026, grad_fn=<MeanBackward0>)\n",
            "tensor(0.0089, grad_fn=<MeanBackward0>)\n",
            "tensor(0.0026, grad_fn=<MeanBackward0>)\n",
            "tensor(0.0089, grad_fn=<MeanBackward0>)\n",
            "tensor(0.0026, grad_fn=<MeanBackward0>)\n",
            "tensor(0.0089, grad_fn=<MeanBackward0>)\n",
            "tensor(0.0026, grad_fn=<MeanBackward0>)\n",
            "tensor(0.0089, grad_fn=<MeanBackward0>)\n",
            "Epoch:190| test:0.008932482451200485|Test loss:0.005023092031478882\n",
            "OrderedDict([('weight', tensor([0.6951])), ('bias', tensor([0.2993]))])\n",
            "tensor(0.0026, grad_fn=<MeanBackward0>)\n",
            "tensor(0.0089, grad_fn=<MeanBackward0>)\n",
            "tensor(0.0026, grad_fn=<MeanBackward0>)\n",
            "tensor(0.0089, grad_fn=<MeanBackward0>)\n",
            "tensor(0.0026, grad_fn=<MeanBackward0>)\n",
            "tensor(0.0089, grad_fn=<MeanBackward0>)\n",
            "tensor(0.0026, grad_fn=<MeanBackward0>)\n",
            "tensor(0.0089, grad_fn=<MeanBackward0>)\n",
            "tensor(0.0026, grad_fn=<MeanBackward0>)\n"
          ]
        }
      ]
    },
    {
      "cell_type": "code",
      "source": [
        "import numpy as np\n",
        "np.array(torch.tensor(loss_values).numpy())"
      ],
      "metadata": {
        "colab": {
          "base_uri": "https://localhost:8080/"
        },
        "id": "4zpl2qOWgniK",
        "outputId": "cfaf677c-5e31-4c73-bffa-64a6ad3a4b73"
      },
      "execution_count": 199,
      "outputs": [
        {
          "output_type": "execute_result",
          "data": {
            "text/plain": [
              "array([0.28983936, 0.17462933, 0.07638873, 0.05069301, 0.04463796,\n",
              "       0.04098063, 0.03750344, 0.03407188, 0.03063862, 0.02719982,\n",
              "       0.02376995, 0.020335  , 0.01689645, 0.01346802, 0.01003139,\n",
              "       0.00659453, 0.00316608, 0.00893248, 0.00893248, 0.00893248],\n",
              "      dtype=float32)"
            ]
          },
          "metadata": {},
          "execution_count": 199
        }
      ]
    },
    {
      "cell_type": "code",
      "source": [
        "plt.plot(epoch_count,np.array(torch.tensor(loss_values).numpy()),label=\"Train Loss\")\n",
        "plt.plot(epoch_count,np.array(torch.tensor(test_loss_values).numpy()),label=\"Train Loss\")\n",
        "plt.title(\"Training and test loss curves\")\n",
        "plt.ylabel(\"Loss\")\n",
        "plt.xlabel(\"Epochs\")\n",
        "plt.legend();"
      ],
      "metadata": {
        "colab": {
          "base_uri": "https://localhost:8080/",
          "height": 472
        },
        "id": "M_TTjkxIhwPm",
        "outputId": "7093cdd9-9b6a-4d40-c2eb-72e5cadd9fcd"
      },
      "execution_count": 201,
      "outputs": [
        {
          "output_type": "display_data",
          "data": {
            "text/plain": [
              "<Figure size 640x480 with 1 Axes>"
            ],
            "image/png": "[encoded data removed]"
          },
          "metadata": {}
        }
      ]
    },
    {
      "cell_type": "code",
      "source": [
        "with torch.inference_mode():\n",
        "  y_preds_new=model_0(X_test)"
      ],
      "metadata": {
        "id": "CAnh4iwaXy0F"
      },
      "execution_count": 185,
      "outputs": []
    },
    {
      "cell_type": "code",
      "source": [
        "plot_predictions(predictions=y_preds)"
      ],
      "metadata": {
        "colab": {
          "base_uri": "https://localhost:8080/",
          "height": 599
        },
        "id": "EbdHFDQtX9Nw",
        "outputId": "f89b16cb-6543-46b8-84ee-d59536e05723"
      },
      "execution_count": 186,
      "outputs": [
        {
          "output_type": "display_data",
          "data": {
            "text/plain": [
              "<Figure size 1000x700 with 1 Axes>"
            ],
            "image/png": "[encoded data removed]"
          },
          "metadata": {}
        }
      ]
    },
    {
      "cell_type": "code",
      "source": [
        "plot_predictions(predictions=y_preds_new)"
      ],
      "metadata": {
        "colab": {
          "base_uri": "https://localhost:8080/",
          "height": 599
        },
        "id": "pxz8-uTOYkMN",
        "outputId": "2edde8b3-e9a4-455a-f2ff-f0c2fdf5e72c"
      },
      "execution_count": 187,
      "outputs": [
        {
          "output_type": "display_data",
          "data": {
            "text/plain": [
              "<Figure size 1000x700 with 1 Axes>"
            ],
            "image/png": "[encoded data removed]"
          },
          "metadata": {}
        }
      ]
    },
    {
      "cell_type": "code",
      "source": [
        "y_preds_new"
      ],
      "metadata": {
        "colab": {
          "base_uri": "https://localhost:8080/"
        },
        "id": "48_yUO5EWmyK",
        "outputId": "ac6ae534-f8a9-497b-f192-2e495843f9b9"
      },
      "execution_count": 188,
      "outputs": [
        {
          "output_type": "execute_result",
          "data": {
            "text/plain": [
              "tensor([[0.8685],\n",
              "        [0.8825],\n",
              "        [0.8965],\n",
              "        [0.9105],\n",
              "        [0.9245],\n",
              "        [0.9384],\n",
              "        [0.9524],\n",
              "        [0.9664],\n",
              "        [0.9804],\n",
              "        [0.9944]])"
            ]
          },
          "metadata": {},
          "execution_count": 188
        }
      ]
    },
    {
      "cell_type": "code",
      "source": [
        "weight, bias"
      ],
      "metadata": {
        "colab": {
          "base_uri": "https://localhost:8080/"
        },
        "id": "nd7q2AbAWzdK",
        "outputId": "b4b21a09-48ad-42f0-b849-0bf7866842d9"
      },
      "execution_count": 189,
      "outputs": [
        {
          "output_type": "execute_result",
          "data": {
            "text/plain": [
              "(0.7, 0.3)"
            ]
          },
          "metadata": {},
          "execution_count": 189
        }
      ]
    },
    {
      "cell_type": "markdown",
      "source": [
        "#Saving a model in Pytorch\n",
        "\n",
        "There are three main methods for saving and loading in PyTorch\n",
        "\n",
        "1. `torch.save()` -allows us to save a PyTorch object in python's pickle formate\n",
        "2. `torch.load()`- allows us to load a saved PyTorch object\n",
        "3. `torch.nn.Module_load_state_dict()`- this allows to load a model's saved state dictionary"
      ],
      "metadata": {
        "id": "ofXxXLFUj1Ze"
      }
    },
    {
      "cell_type": "code",
      "source": [
        "#Saving our Pytorch model\n",
        "\n",
        "from pathlib import Path\n",
        "#1. Create model directory\n",
        "MODEL_PATH=Path('models')\n",
        "MODEL_PATH.mkdir(parents=True, exist_ok=True)\n",
        "\n",
        "#2. Create model save path\n",
        "MODEL_NAME=\"01_pytorch_workflow_model_0.pth\"\n",
        "MODEL_SAVE_PATH=MODEL_PATH/MODEL_NAME\n",
        "\n",
        "#SAVE the model state dic()\n",
        "print(f\"SAVING model to:{MODEL_SAVE_PATH}\")\n",
        "torch.save(obj=model_0.state_dict(),\n",
        "           f=MODEL_SAVE_PATH)"
      ],
      "metadata": {
        "colab": {
          "base_uri": "https://localhost:8080/"
        },
        "id": "5_6lW___lak_",
        "outputId": "de066c95-90ca-41b5-aad5-ac95f85478a9"
      },
      "execution_count": 204,
      "outputs": [
        {
          "output_type": "stream",
          "name": "stdout",
          "text": [
            "SAVING model to:models/01_pytorch_workflow_model_0.pth\n"
          ]
        }
      ]
    }
  ]
}